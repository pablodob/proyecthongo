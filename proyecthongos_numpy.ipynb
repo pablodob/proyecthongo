{
 "cells": [
  {
   "cell_type": "markdown",
   "metadata": {},
   "source": [
    "# Project_hongo\n",
    "\n",
    "## Introducción\n",
    "\n",
    "### 1- Trabajar los datos\n",
    "transformar los datos de ingreso, a variables de ingreso.\n",
    "\n",
    "### 2- Diseño de la red\n",
    "Pensar en la estructura.\n",
    "\n",
    "### 3- Costo\n",
    "Definir la función de costo para entrenar la red.\n",
    "\n",
    "### 4- Definir el entrenamiento\n",
    "Manera a modificar los parametros (pesos)\n",
    "\n",
    "### 5- Prueba\n",
    "entrenamiento y testeo.\n"
   ]
  },
  {
   "cell_type": "code",
   "execution_count": 1,
   "metadata": {},
   "outputs": [],
   "source": [
    "import pandas as pd\n",
    "import numpy as np\n",
    "from collections import Counter"
   ]
  },
  {
   "cell_type": "code",
   "execution_count": 2,
   "metadata": {},
   "outputs": [
    {
     "name": "stdout",
     "output_type": "stream",
     "text": [
      "   class cap-shape cap-surface cap-color bruises odor\n",
      "0      p         x           s         n       t    p\n",
      "1      e         x           s         y       t    a\n",
      "2      e         b           s         w       t    l\n",
      "3      p         x           y         w       t    p\n",
      "4      e         x           s         g       f    n\n",
      "5      e         x           y         y       t    a\n",
      "6      e         b           s         w       t    a\n",
      "7      e         b           y         w       t    l\n",
      "8      p         x           y         w       t    p\n",
      "9      e         b           s         y       t    a\n",
      "10     e         x           y         y       t    l\n",
      "11     e         x           y         y       t    a\n",
      "12     e         b           s         y       t    a\n",
      "13     p         x           y         w       t    p\n",
      "14     e         x           f         n       f    n\n"
     ]
    }
   ],
   "source": [
    "data = pd.read_csv(\"mushrooms_test.csv\")\n",
    "data \n",
    "print(data)"
   ]
  },
  {
   "cell_type": "code",
   "execution_count": 3,
   "metadata": {},
   "outputs": [
    {
     "data": {
      "text/plain": [
       "3"
      ]
     },
     "execution_count": 3,
     "metadata": {},
     "output_type": "execute_result"
    }
   ],
   "source": [
    "atr1 = list(data[\"cap-surface\"])\n",
    "\n",
    "len(Counter(atr1))\n"
   ]
  },
  {
   "cell_type": "code",
   "execution_count": 4,
   "metadata": {},
   "outputs": [
    {
     "name": "stdout",
     "output_type": "stream",
     "text": [
      "class\n",
      "cap-shape\n",
      "cap-surface\n",
      "cap-color\n",
      "bruises\n",
      "odor\n"
     ]
    }
   ],
   "source": [
    "planedata = []\n",
    "for atr in data.columns:\n",
    "    print(atr)\n",
    "    counter = Counter(data[atr])\n",
    "   "
   ]
  },
  {
   "cell_type": "code",
   "execution_count": 5,
   "metadata": {
    "scrolled": true
   },
   "outputs": [
    {
     "name": "stdout",
     "output_type": "stream",
     "text": [
      "[[1, 0, 0, 1, 0, 0, 0, 0, 1, 0, 0, 0, 0, 1, 0], [0, 1, 0, 0, 0, 1, 1, 0, 0, 1, 0, 1, 1, 0, 0], [0, 0, 1, 0, 0, 0, 0, 1, 0, 0, 1, 0, 0, 0, 0], [0, 0, 0, 0, 1, 0, 0, 0, 0, 0, 0, 0, 0, 0, 1]]\n",
      "['p', 'a', 'l', 'p', 'n', 'a', 'a', 'l', 'p', 'a', 'l', 'a', 'a', 'p', 'n']\n",
      "['p', 'a', 'l', 'n']\n",
      "2\n"
     ]
    }
   ],
   "source": [
    "values = list(data[atr])\n",
    "counter = Counter(data[atr])\n",
    "possible_values = list(counter.keys())\n",
    "parcial_matrix = []\n",
    "\n",
    "for col in range(len(counter)):\n",
    "    parcial_matrix.append([])\n",
    "\n",
    "for reg in values:\n",
    "    for col in parcial_matrix:\n",
    "        col.append(0)\n",
    "    index = possible_values.index(reg)\n",
    "    parcial_matrix[index][-1] = 1\n",
    "        \n",
    "        \n",
    "print(parcial_matrix)\n",
    "print(values)\n",
    "print(possible_values)\n",
    "print(possible_values.index('l'))"
   ]
  },
  {
   "cell_type": "code",
   "execution_count": null,
   "metadata": {},
   "outputs": [],
   "source": []
  },
  {
   "cell_type": "code",
   "execution_count": null,
   "metadata": {},
   "outputs": [],
   "source": []
  }
 ],
 "metadata": {
  "kernelspec": {
   "display_name": "Python 3",
   "language": "python",
   "name": "python3"
  },
  "language_info": {
   "codemirror_mode": {
    "name": "ipython",
    "version": 3
   },
   "file_extension": ".py",
   "mimetype": "text/x-python",
   "name": "python",
   "nbconvert_exporter": "python",
   "pygments_lexer": "ipython3",
   "version": "3.6.4"
  }
 },
 "nbformat": 4,
 "nbformat_minor": 2
}
